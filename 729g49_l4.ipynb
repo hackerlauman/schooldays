{
  "nbformat": 4,
  "nbformat_minor": 0,
  "metadata": {
    "kernelspec": {
      "display_name": "Python 3",
      "language": "python",
      "name": "python3"
    },
    "language_info": {
      "codemirror_mode": {
        "name": "ipython",
        "version": 3
      },
      "file_extension": ".py",
      "mimetype": "text/x-python",
      "name": "python",
      "nbconvert_exporter": "python",
      "pygments_lexer": "ipython3",
      "version": "3.7.6"
    },
    "latex_envs": {
      "bibliofile": "biblio.bib",
      "cite_by": "apalike",
      "current_citInitial": 1,
      "eqLabelWithNumbers": true,
      "eqNumInitial": 0
    },
    "colab": {
      "provenance": [],
      "include_colab_link": true
    }
  },
  "cells": [
    {
      "cell_type": "markdown",
      "metadata": {
        "id": "view-in-github",
        "colab_type": "text"
      },
      "source": [
        "<a href=\"https://colab.research.google.com/github/hackerlauman/schooldays/blob/main/729g49_l4.ipynb\" target=\"_parent\"><img src=\"https://colab.research.google.com/assets/colab-badge.svg\" alt=\"Open In Colab\"/></a>"
      ]
    },
    {
      "cell_type": "markdown",
      "metadata": {
        "id": "kmhS34VRWhPJ"
      },
      "source": [
        "# L4: Kollokationer"
      ]
    },
    {
      "cell_type": "markdown",
      "metadata": {
        "id": "VbG_AWhnWhPO"
      },
      "source": [
        "I denna laboration ska ni ta fram de starkaste kollokationerna i en lingvistiskt uppmärkt text. För att göra detta behöver ni skatta sannolikheter för enskilda ord och samförekomster av ord. Vi begränsar oss till sekvenser av två ord (bigram).\n",
        "\n",
        "Den korpus som ni kommer att jobba med i denna laboration innehåller automatiskt uppmärkta meningar ur nyhetsartiklar från [Göteborgsposten](http://www.gp.se/), en större svensk dagstidning. Nyhetsartiklarna kommer från perioden 2004–2011 och har sammanställts utifrån rådata från [Språkbanken](https://spraakbanken.gu.se/).\n",
        "\n",
        "Börja med att importera de Python-moduler som ni behöver för denna laboration:"
      ]
    },
    {
      "cell_type": "code",
      "metadata": {
        "id": "oH7xScp0WhPP"
      },
      "source": [
        "!wget -q -r -nH -np --cut-dirs=7 -R \"index.html*\" https://www.ida.liu.se/~729G49/LabData/lab4/; rm -rf sample_data; rm robots.txt; echo \"Files downloaded:\" ; ls\n",
        "\n",
        "import lab4"
      ],
      "execution_count": null,
      "outputs": []
    },
    {
      "cell_type": "code",
      "source": [
        "!python3 --version"
      ],
      "metadata": {
        "id": "3pAPs7ag39C1"
      },
      "execution_count": null,
      "outputs": []
    },
    {
      "cell_type": "markdown",
      "metadata": {
        "id": "Xq3RMJ52WhPP"
      },
      "source": [
        "## Att arbeta med komprimerade filer"
      ]
    },
    {
      "cell_type": "markdown",
      "metadata": {
        "id": "2nrh7sMDWhPP"
      },
      "source": [
        "Eftersom den korpus som ni kommer att arbeta med är rätt så stor, har vi valt att komprimera den med hjälp av [bzip2](https://en.wikipedia.org/wiki/Bzip2). För att komma åt de egentliga datan kan ni antingen packa upp filen med ett separat verktyg eller använda följande modifierade version av vårt &rdquo;grundrecept&rdquo; för att öppna och läsa ifrån filer:"
      ]
    },
    {
      "cell_type": "code",
      "metadata": {
        "id": "JtBWKhvbWhPQ"
      },
      "source": [
        "import bz2\n",
        "\n",
        "# Här följer vi grundreceptet för att skriva ut antalet token i filen\n",
        "\n",
        "n_tokens = 0\n",
        "with bz2.open('729G49-GP.conllx.bz2', 'rt') as source:\n",
        "    for sentence in lab4.sentences(source):\n",
        "        n_tokens += len(sentence)\n",
        "print(n_tokens)"
      ],
      "execution_count": null,
      "outputs": []
    },
    {
      "cell_type": "markdown",
      "metadata": {
        "id": "BOFCt7WOWhPQ"
      },
      "source": [
        "## Uppgift 1: Beräkna absoluta frekvenser för ord"
      ]
    },
    {
      "cell_type": "markdown",
      "metadata": {
        "id": "agAF2LGwWhPQ"
      },
      "source": [
        "Er första uppgift är att extrahera alla ord i korpusfilen och beräkna deras absoluta frekvenser, dvs. hur ofta de förekommer i korpusen. Ett ord definieras här som ett token som inte är ett skiljetecken. För att avgöra om ett token är ett skiljetecken ska ni använda den ordklassinformation som finns annoterad i korpusen; se dokumentet [Part-of-Speech Categories in the Swedish Treebank](https://web.archive.org/web/20190131174232/https://stp.lingfil.uu.se/~nivre/swedish_treebank/pos.html)."
      ]
    },
    {
      "cell_type": "markdown",
      "metadata": {
        "id": "YXxdI9V3WhPQ"
      },
      "source": [
        "<div class=\"panel panel-primary\">\n",
        "<div class=\"panel-heading\">Uppgift 1</div>\n",
        "<div class=\"panel-body\">\n",
        "    <p>Skriv kod som extraherar alla ord (token som inte är skiljetecken) och beräknar deras absoluta frekvenser. Returnera resultatet som en <code>Counter</code>.</p>\n",
        "</div>\n",
        "</div>\n",
        "\n",
        "Skriv er kod i cellen nedan och utför den genom att köra cellen. Jämför ert resultat med det resultat som ni får när ni använder funktionen `lab4.problem1()`."
      ]
    },
    {
      "cell_type": "markdown",
      "metadata": {
        "id": "XqV1UTtnWhPR"
      },
      "source": [
        "<div class=\"alert alert-warning\">\n",
        "    <strong>Ett tips:</strong> Återanvänd funktionen <code>sentences</code> från laboration&nbsp;L2. (Klistra in funktionsdefinitionen i en ny kodcell.)\n",
        "</div>"
      ]
    },
    {
      "cell_type": "code",
      "metadata": {
        "id": "1WiAJ_B_WhPR"
      },
      "source": [
        "# TODO: Skriv kod här för att lösa Uppgift 1. Spara resultatet i en Counter cnt1.\n",
        "cnt1 = lab4.problem1()    # Kommentera ut denna rad när ni har skrivit egen kod\n",
        "\n",
        "# Nästa rad skriver ut det totala antalet ord i korpusen enligt cnt1.\n",
        "print(sum(cnt1.values()))"
      ],
      "execution_count": null,
      "outputs": []
    },
    {
      "cell_type": "markdown",
      "metadata": {
        "id": "T8GRJ90pWhPR"
      },
      "source": [
        "## Uppgift 2: Skatta ordsannolikheterna"
      ]
    },
    {
      "cell_type": "markdown",
      "metadata": {
        "id": "C7YVfu1TWhPR"
      },
      "source": [
        "I nästa steg ska ni skatta ordsannolikheterna. Enligt maximum likelihood-metoden kan ni göra detta genom att likställa sannolikheter med relativa frekvenser, dvs. den andel som varje ord har av det totala antalet ordförekomster i korpusfilen. Om vi skriver $\\#(w)$ för den absoluta frekvensen för ordet $w$ och låter $w_1, \\dots, w_n$ beteckna alla unika ord i korpusfilen så ska ni alltså beräkna\n",
        "\n",
        "$$P(w) = \\frac{\\#(w)}{\\#(w_1) + \\cdots + \\#(w_n)}$$"
      ]
    },
    {
      "cell_type": "markdown",
      "metadata": {
        "id": "R4Vd98_aWhPR"
      },
      "source": [
        "<div class=\"panel panel-primary\">\n",
        "<div class=\"panel-heading\">Uppgift 2</div>\n",
        "<div class=\"panel-body\">\n",
        "    <p>Skriv kod som beräknar alla relativa ordfrekvenser. Returnera resultatet som ett dictionary.</p>\n",
        "</div>\n",
        "</div>\n",
        "\n",
        "Skriv er kod i cellen nedan och utför den genom att köra cellen. Testa ert resultat med hjälp av funktionen `lab4.test_problem2()`."
      ]
    },
    {
      "cell_type": "code",
      "metadata": {
        "id": "eIXzYbV_WhPS"
      },
      "source": [
        "# TODO: Skriv kod här för att lösa Uppgift 2. Spara resultatet som ett dictionary p1.\n",
        "p1 = lab4.problem2()    # Kommentera ut denna rad när ni har skrivit egen kod\n",
        "\n",
        "# Nästa rad testar om p1 innehåller korrekta värden.\n",
        "lab4.test_problem2(p1)"
      ],
      "execution_count": null,
      "outputs": []
    },
    {
      "cell_type": "markdown",
      "metadata": {
        "id": "41weqh_8WhPS"
      },
      "source": [
        "## Uppgift 3: Beräkna absoluta frekvenser för bigram"
      ]
    },
    {
      "cell_type": "markdown",
      "metadata": {
        "id": "Q4ZoNM4IWhPS"
      },
      "source": [
        "I nästa uppgift ska ni göra om samma sak som ni gjorde i Uppgift&nbsp;1 fast för **bigram**. Ett bigram är en sammanhängande sekvens av två ord, såsom *av fem*, *utan att* eller *och dödligheten*. I Python kan man representera bigram som [tupler](https://docs.python.org/3/tutorial/datastructures.html#tuples-and-sequences):"
      ]
    },
    {
      "cell_type": "code",
      "metadata": {
        "id": "AntXGbtZWhPS"
      },
      "source": [
        "bigram1 = ('av', 'fem')\n",
        "bigram2 = ('utan', 'att')\n",
        "bigram3 = ('och', 'dödligheten')"
      ],
      "execution_count": null,
      "outputs": []
    },
    {
      "cell_type": "markdown",
      "metadata": {
        "id": "8bjjYcSsWhPS"
      },
      "source": [
        "När ni tar fram absoluta och relativa frekvenser för bigram ska ni bara ta med sådana bigram där *båda* komponenterna är ord i den mening som ni använt ovan, dvs. token som inte är skiljetecken."
      ]
    },
    {
      "cell_type": "markdown",
      "metadata": {
        "id": "BKj8RywaWhPT"
      },
      "source": [
        "<div class=\"panel panel-primary\">\n",
        "<div class=\"panel-heading\">Uppgift 3</div>\n",
        "<div class=\"panel-body\">\n",
        "    <p>Skriv kod som extraherar alla bigram och beräknar deras absoluta frekvenser. Returnera resultatet som en <code>Counter</code>.</p>\n",
        "</div>\n",
        "</div>\n",
        "\n",
        "Skriv er kod i cellen nedan och utför den genom att köra cellen. Jämför ert resultat med det resultat som ni får när ni använder funktionen `lab4.problem3()`."
      ]
    },
    {
      "cell_type": "code",
      "metadata": {
        "id": "XGBE5pKfWhPT"
      },
      "source": [
        "# TODO: Skriv kod här för att lösa Uppgift 3. Spara resultatet i en Counter cnt2.\n",
        "cnt2 = lab4.problem3()    # Kommentera ut denna rad när ni har skrivit egen kod\n",
        "\n",
        "# Nästa rad skriver ut det totala antalet bigram i korpusen enligt cnt2.\n",
        "print(sum(cnt2.values()))"
      ],
      "execution_count": null,
      "outputs": []
    },
    {
      "cell_type": "markdown",
      "metadata": {
        "id": "5D6SdFBxWhPT"
      },
      "source": [
        "## Uppgift 4: Skatta bigramsannolikheter"
      ]
    },
    {
      "cell_type": "markdown",
      "metadata": {
        "id": "8X9N9EmZWhPT"
      },
      "source": [
        "I nästa steg ska ni skatta bigramsannolikheterna, återigen genom att liksätta sannolikheter med relativa frekvenser. Denna uppgift borde vara ganska enkel nu."
      ]
    },
    {
      "cell_type": "markdown",
      "metadata": {
        "id": "cCNzfRmzWhPT"
      },
      "source": [
        "<div class=\"panel panel-primary\">\n",
        "<div class=\"panel-heading\">Uppgift 4</div>\n",
        "<div class=\"panel-body\">\n",
        "    <p>Skriv kod som beräknar alla relativa bigramfrekvenser. Returnera resultatet som ett dictionary.</p>\n",
        "</div>\n",
        "</div>\n",
        "\n",
        "Skriv er kod i cellen nedan och utför den genom att köra cellen. Testa ert resultat med hjälp av funktionen `lab3.test_problem4()`."
      ]
    },
    {
      "cell_type": "code",
      "metadata": {
        "id": "qaovEjdkWhPT"
      },
      "source": [
        "# TODO: Skriv kod här för att lösa Uppgift 4. Spara resultatet som ett dictionary p2.\n",
        "p2 = lab4.problem4()    # Kommentera ut denna rad när ni har skrivit egen kod\n",
        "\n",
        "# Nästa rad testar om p2 innehåller korrekta värden.\n",
        "lab4.test_problem4(p2)"
      ],
      "execution_count": null,
      "outputs": []
    },
    {
      "cell_type": "markdown",
      "metadata": {
        "id": "h7w-y2x2WhPU"
      },
      "source": [
        "## Uppgift 5: Pointwise mutual information"
      ]
    },
    {
      "cell_type": "markdown",
      "metadata": {
        "id": "zhtp-I8yWhPU"
      },
      "source": [
        "Med ordsannolikheterna och bigramsannolikheterna på plats kan ni nu beräkna pointwise mutual information-värden för alla bigram. Kom ihåg från föreläsningen att PMI-värdet för två ord $w_1$ och $w_2$ beräknas enligt följande formel:\n",
        "\n",
        "$$\\text{PMI}(w_1, w_2) = \\log \\frac{P(w_1w_2)}{P(w_1)P(w_2)}$$"
      ]
    },
    {
      "cell_type": "markdown",
      "metadata": {
        "id": "-j01nud_WhPU"
      },
      "source": [
        "<div class=\"panel panel-primary\">\n",
        "<div class=\"panel-heading\">Uppgift 5</div>\n",
        "<div class=\"panel-body\">\n",
        "    <p>Skriv kod som beräknar PMI-värden för alla bigram i korpusen och skriver ut de 20&nbsp;starkaste kollokationerna. Returnera resultatet som en <code>Counter</code>.</p>\n",
        "</div>\n",
        "</div>\n",
        "\n",
        "En `Counter` är egentligen tänkt att innehålla heltalsvärden, men många av dess metoder fungerar även om man lagrar flyttal, såsom PMI-värden. En särskild användbar metod i sammanhanget är [`most_common()`](https://docs.python.org/3/library/collections.html#collections.Counter.most_common).\n",
        "\n",
        "Skriv er kod i cellen nedan och utför den genom att köra cellen. Testa ert resultat med hjälp av funktionen `lab4.test_problem5()`."
      ]
    },
    {
      "cell_type": "code",
      "metadata": {
        "id": "ALVQAJ8sWhPU"
      },
      "source": [
        "# TODO: Skriv kod här för att lösa Uppgift 5. Spara resultatet som en Counter pmi.\n",
        "pmi = lab4.problem5()    # Kommentera ut denna rad när ni har skrivit egen kod\n",
        "\n",
        "# Nästa rad testar om pmi innehåller korrekta värden\n",
        "lab4.test_problem5(pmi)\n",
        "\n",
        "# TODO: Skriv kod som skriver ut de 20 starkaste kollokationerna"
      ],
      "execution_count": null,
      "outputs": []
    },
    {
      "cell_type": "markdown",
      "metadata": {
        "id": "y77c0O66WhPU"
      },
      "source": [
        "Hade ni förväntat er att se dessa kollokationer?"
      ]
    },
    {
      "cell_type": "markdown",
      "metadata": {
        "id": "jA1avI8lWhPV"
      },
      "source": [
        "## Uppgift 6: Lexicographer&rsquo;s MI"
      ]
    },
    {
      "cell_type": "markdown",
      "metadata": {
        "id": "EapdmVj6WhPV"
      },
      "source": [
        "Adam Kilgarrif har föreslagit en variant av PMI som han kallar Lexicographer&rsquo;s Mutual Information (LMI):\n",
        "\n",
        "$$\\text{LMI}(w_1, w_2) = \\#(w_1 w_2) \\cdot \\log \\frac{P(w_1w_2)}{P(w_1)P(w_2)}$$\n",
        "\n",
        "Detta modifierade mått adresserar ett problem med det ursprungliga PMI-måttet."
      ]
    },
    {
      "cell_type": "markdown",
      "metadata": {
        "id": "RxcRSTwlWhPV"
      },
      "source": [
        "<div class=\"panel panel-primary\">\n",
        "\n",
        "<div class=\"panel-body\">\n",
        "    <p>Denna uppgift består av två delar: </p>\n",
        "    <ol>\n",
        "       <li> Skriv kod som beräknar LMI-värden för alla bigram i korpusen och skriver ut de 20 starkaste kollokationerna. Ni kan \"låna\" mycket kod från föregående uppgift.\n",
        "       <b>OBS: Här finns inget facit, utan ni ska istället i del två av denna uppgift reflektera över resultatet.</b>\n",
        "       <li> Skriv en kort text (ca. 150 ord) som tar upp följande punkter:\n",
        "       <ul>\n",
        "               <li>Vad är problemet med PMI-måttet? Hur försöker LMI-måttet lösa detta problem? Vilka resultat fick ni med det modifierade måttet?</li>\n",
        "        <li>Är de nya resultaten &rdquo;bättre&rdquo; än de gamla? Lever det modifierade måttet upp till förväntningarna?</li>\n",
        "        <li>Vad lärde ni er från denna studie? Exakt hur lärde ni er detta? Varför är denna kunskap relevant?</li>\n",
        "    </ul>\n",
        "    </ol>\n",
        "\n",
        "</div>\n",
        "</div>"
      ]
    },
    {
      "cell_type": "code",
      "source": [
        "# TODO: Skriv kod för att lösa del 1 av uppgift 6\n",
        "# TODO: Ni ska alltså skriva kod som skriver ut de 20 starkaste kollokationerna enligt LMI"
      ],
      "metadata": {
        "id": "n_s_FLDk2bQF"
      },
      "execution_count": null,
      "outputs": []
    },
    {
      "cell_type": "markdown",
      "source": [
        "I denna cell kan ni skriva texten för del två. (Dubbelklicka här)\n",
        "\n",
        "\n",
        "\n"
      ],
      "metadata": {
        "id": "SK7XP1PI2zZF"
      }
    },
    {
      "cell_type": "markdown",
      "metadata": {
        "id": "rCOHBLqtWhPV"
      },
      "source": [
        "<h3 class=\"alert alert-info\">\n",
        "    Glöm inte att läsa de allmänna reglerna för inlämningsuppgifterna på kurshemsidan innan ni skickar in denna notebook!\n",
        "</h3>"
      ]
    },
    {
      "cell_type": "markdown",
      "metadata": {
        "id": "0W-r8tplWhPW"
      },
      "source": [
        "## VG-del: Partikelverb"
      ]
    },
    {
      "cell_type": "markdown",
      "metadata": {
        "id": "K2zhRl3LWhPW"
      },
      "source": [
        "Många kollokationer i svenskan är kombinationer av ett verb och en partikel, såsom *slå igenom*, *hänga ihop* och *höra hemma*. Er uppgift i VG-delen av laborationen är att skapa en lista över sådana konstruktioner."
      ]
    },
    {
      "cell_type": "markdown",
      "metadata": {
        "id": "-l5U18DZWhPW"
      },
      "source": [
        "<div class=\"panel panel-primary\">\n",
        "<div class=\"panel-heading\">Uppgift 7 (VG)</div>\n",
        "<div class=\"panel-body\">\n",
        "    <p>Skriv kod för att skapa en lista över de 20&nbsp;starkaste partikelverb i korpusen. Använd samma metod som tidigare, med följande förändringar:</p>\n",
        "    <ul>\n",
        "        <li>Ta bara med bigram där den första komponenten är ett verb och den andra komponenten är en partikel.</li>\n",
        "        <li>Istället för att beräkna frekvenser och LMI på ordnivå ska ni beräkna allt på lemmanivå.</li>\n",
        "        <li>Er lista ska alltså inte skilja mellan <em>slår igenom</em> och <em>slog igenom</em> utan lista grundformen <em>slå igenom</em>.</li>\n",
        "        <li>Några ord är annoterade med flera lemman, separerade genom vertikala streck. Ta i så fall det första lemmat.</li>\n",
        "    </ul>\n",
        "    <p>Skriv en kort text (ca. 150&nbsp;ord) om er korpusstudie. Utgå ifrån dessa frågor:</p>\n",
        "    <ul>\n",
        "        <li>Exakt hur gjorde ni för att lösa uppgiften? Vilka resultat fick ni utifrån denna metod?</li>\n",
        "        <li>Hade ni förväntat er att se just dessa partikelverb? Finns det andra verb som ni saknar?</li>\n",
        "        <li>Vad lärde ni er från denna studie? Exakt hur lärde ni er detta? Varför är denna kunskap relevant?</li>\n",
        "    </ul>\n",
        "</div>\n",
        "</div>"
      ]
    },
    {
      "cell_type": "markdown",
      "metadata": {
        "collapsed": true,
        "id": "BPanKT8SWhPW"
      },
      "source": [
        "<div class=\"alert alert-info\">\n",
        "    Glöm inte att läsa de allmänna reglerna för inlämningsuppgifterna på kurshemsidan innan ni skickar in denna notebook!\n",
        "</div>"
      ]
    }
  ]
}