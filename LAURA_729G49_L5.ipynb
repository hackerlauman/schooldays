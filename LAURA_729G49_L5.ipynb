{
  "nbformat": 4,
  "nbformat_minor": 0,
  "metadata": {
    "kernelspec": {
      "display_name": "Python 3",
      "language": "python",
      "name": "python3"
    },
    "language_info": {
      "codemirror_mode": {
        "name": "ipython",
        "version": 3
      },
      "file_extension": ".py",
      "mimetype": "text/x-python",
      "name": "python",
      "nbconvert_exporter": "python",
      "pygments_lexer": "ipython3",
      "version": "3.7.3"
    },
    "colab": {
      "provenance": [],
      "include_colab_link": true
    }
  },
  "cells": [
    {
      "cell_type": "markdown",
      "metadata": {
        "id": "view-in-github",
        "colab_type": "text"
      },
      "source": [
        "<a href=\"https://colab.research.google.com/github/hackerlauman/schooldays/blob/codespace-expert-xylophone-4jj7p6rqw65x2xrp/LAURA_729G49_L5.ipynb\" target=\"_parent\"><img src=\"https://colab.research.google.com/assets/colab-badge.svg\" alt=\"Open In Colab\"/></a>"
      ]
    },
    {
      "cell_type": "markdown",
      "metadata": {
        "id": "9CSYXefYXNfn"
      },
      "source": [
        "# L5: Hyponymer"
      ]
    },
    {
      "cell_type": "markdown",
      "metadata": {
        "id": "xkdnnxhjXNfs"
      },
      "source": [
        "En **hyponym** är ett ord vars betydelse innefattas av ett annat ords betydelse; detta andra ord kallas **hyperonym**. I denna laboration ska ni implementera en enkel metod för att hitta hyponymer i en lingvistiskt uppmärkt text. Den specifika korpus som ni kommer att jobba med är samma som i laboration&nbsp;L4: automatiskt uppmärkta meningar ur nyhetsartiklar från [Göteborgsposten](http://www.gp.se/)."
      ]
    },
    {
      "cell_type": "code",
      "metadata": {
        "id": "9DqnmLW8Xm4M"
      },
      "source": [
        "!wget -q -r -nH -np --cut-dirs=7 -R \"index.html*\" https://www.ida.liu.se/~729G49/LabData/lab5/; rm -rf sample_data; rm robots.txt; echo \"Files downloaded:\" ; ls\n",
        "\n",
        "import lab5"
      ],
      "execution_count": null,
      "outputs": []
    },
    {
      "cell_type": "code",
      "source": [
        "!python --version"
      ],
      "metadata": {
        "colab": {
          "base_uri": "https://localhost:8080/"
        },
        "id": "eOsleIR2pkqM",
        "outputId": "c2322f78-6288-480c-efff-591d1280f318"
      },
      "execution_count": null,
      "outputs": [
        {
          "output_type": "stream",
          "name": "stdout",
          "text": [
            "Python 3.10.11\n"
          ]
        }
      ]
    },
    {
      "cell_type": "markdown",
      "metadata": {
        "id": "HgrZKklTXNft"
      },
      "source": [
        "## Uppgift 1: Extrahera kandidatpar"
      ]
    },
    {
      "cell_type": "markdown",
      "metadata": {
        "id": "iw-5ebHYXNft"
      },
      "source": [
        "Er första uppgift är att från korpusen extrahera kandidatpar bestående av två substantiv. Här är ett exempel:\n",
        "\n",
        "    ('fetma', 'välfärdssjukdom')\n",
        "\n",
        "Den metod som ni ska implementera för att hitta par som denna är väldigt enkel:\n",
        "\n",
        "1. Hitta alla sekvenser av ord som består av ett substantiv $X$ följd av orden *och andra* följd av ett annat substantiv $Y$.\n",
        "2. Extrahera paret bestående av lemmat för $X$ och lemmat för $Y$.\n",
        "\n",
        "Detta innebär alltså att ni kommer att extrahera exempelparet från sekvensen *fetma och andra välfärdssjukdomar*."
      ]
    },
    {
      "cell_type": "markdown",
      "metadata": {
        "id": "PC5iqNebXNft"
      },
      "source": [
        "<div class=\"panel panel-primary\">\n",
        "\n",
        "<div class=\"panel-body\">\n",
        "    <p>Skriv en generatorfunktion <code>candidates()</code> som yieldar alla kandidatpar enligt specifikationen ovan.</p>\n",
        "</div>\n",
        "</div>\n",
        "\n",
        "Skriv er kod i cellen nedan och testa den genom att beräkna antalet kandidatpar som den hittar. Om ni har gjort allting rätt borde ni hitta 61&nbsp;par."
      ]
    },
    {
      "cell_type": "code",
      "metadata": {
        "id": "sbc3Nl7TXNfu"
      },
      "source": [
        "# TODO: Skriv kod här för att lösa Uppgift 1"
      ],
      "execution_count": null,
      "outputs": []
    },
    {
      "cell_type": "markdown",
      "metadata": {
        "id": "_uKJMP88XNfu"
      },
      "source": [
        "## Uppgift 2: Annotera kandidatparen"
      ]
    },
    {
      "cell_type": "markdown",
      "metadata": {
        "id": "AjeuGHNrXNfu"
      },
      "source": [
        "I nästa uppgift ska ni manuellt annotera de kandidatpar som ni hittat i Uppgift&nbsp;1. För varje par $(X, Y)$ ska ni svara på frågan:\n",
        "\n",
        "*Är $X$ hyponym till $Y$?*\n",
        "\n",
        "**Det är viktigt att var och en av er gör sin egen, oberoende annotering!** Ni ska inte prata med varandra när ni gör annoteringen.\n",
        "\n",
        "Ett sätt att jobba med denna uppgift är att föra över kandidatparen till ett kalkylark som var och en av er får en kopia av. Sedan går ni iväg för att göra era individuella annoteringar i en ny kolumn av er kopia. Till slut skapar ni ett nytt kalkylark med båda annoteringskolumnerna."
      ]
    },
    {
      "cell_type": "markdown",
      "metadata": {
        "id": "YWYk6ShtXNfv"
      },
      "source": [
        "<div class=\"panel panel-primary\">\n",
        "\n",
        "<div class=\"panel-body\">\n",
        "    <p>Annotera kandidatparen enligt instruktionerna ovan.</p>\n",
        "</div>\n",
        "</div>\n",
        "\n",
        "Redovisa era resultat genom att fylla i nedanstående tabell. Raderna i tabellen svarar mot svaren från person&nbsp;A; kolumnerna svarar mot svaren från person&nbsp;B. I varje cell ska ni ange antalet gånger som den specifika kombinationen av svar förekom i era annoteringar."
      ]
    },
    {
      "cell_type": "markdown",
      "metadata": {
        "id": "AnV_L7UlXNfv"
      },
      "source": [
        "<table>\n",
        "    <tr><td></td><td>Ja</td><td>Nej</td></tr>\n",
        "    <tr><td>Ja</td><td>1</td><td>2</td></tr>\n",
        "    <tr><td>Nej</td><td>3</td><td>4</td></tr>\n",
        "</table>"
      ]
    },
    {
      "cell_type": "markdown",
      "source": [
        "Alltså: Ni går igenom varje kandidatpar, och om ni båda svarade \"Ja\" adderar ni ett i rutan där raden \"Ja\" och kolumnen \"Ja\" möts (övre vänstra hörnet). Om bara person A svarade \"Ja\" och person B svarade \"Nej\" adderar ni ett i rutan där raden \"Ja\" och kolumnen \"Nej\" möts (övre högra hörnet), osv. Resultatet för ni sedan in i tabellen ovan."
      ],
      "metadata": {
        "id": "K_Ixo4z8q56G"
      }
    },
    {
      "cell_type": "markdown",
      "metadata": {
        "id": "k13Yiqb0XNfv"
      },
      "source": [
        "## Uppgift 3: Inter-annotator agreement"
      ]
    },
    {
      "cell_type": "markdown",
      "metadata": {
        "id": "-tWld_1RXNfv"
      },
      "source": [
        "Nu ska ni beräkna inter-annotator agreement för era annoteringar. Mera specifikt så ska ni beräkna Cohens kappa-värde:\n",
        "\n",
        "$$\n",
        "\\kappa = \\frac{p_o-p_e}{1-p_e} = 1-\\frac{1-p_o}{1-p_e}\n",
        "$$\n",
        "\n",
        "där $p_o$ anger andelen av fall då båda personer givit samma svar och $p_e$ är den hypotetiska sannolikheten för slumpmässig överensstämmelse. Läs på om Cohens kappa antingen på föreläsningsslidesen eller på [Wikipedia](https://en.wikipedia.org/wiki/Cohen%27s_kappa)."
      ]
    },
    {
      "cell_type": "markdown",
      "metadata": {
        "id": "dn-leftJXNfw"
      },
      "source": [
        "<div class=\"panel panel-primary\">\n",
        "\n",
        "<div class=\"panel-body\">\n",
        "    <p>Beräkna Cohens kappa-värde för era annotationer.</p>\n",
        "</div>\n",
        "</div>\n",
        "\n",
        "Notera att ni inte ska skriva kod för att lösa den här uppgiften. Redovisa resultatet i textfältet nedan. Ange även hur ni tolkar resultatet."
      ]
    },
    {
      "cell_type": "markdown",
      "metadata": {
        "id": "vJe1zR-LXNfw"
      },
      "source": [
        "*TODO: Skriv in kappa-värdet och er tolkning av det i denna textfält*"
      ]
    },
    {
      "cell_type": "markdown",
      "metadata": {
        "id": "5XzZpjKOXNfw"
      },
      "source": [
        "## Uppgift 4: Hearst-mönstren (reflektion)"
      ]
    },
    {
      "cell_type": "markdown",
      "metadata": {
        "id": "RjFeP3qaXNfw"
      },
      "source": [
        "Den metod som ni använt för att extrahera kandidatpar i Uppgift&nbsp;1 använder ett av de så kallade **Hearst-mönstren**, som kommer från den klassiska artikeln [Automatic Acquisition of Hyponyms from Large Text Corpora](http://www.aclweb.org/anthology/C92-2082). I den sista uppgiften ska ni reflektera över hur väl dessa mönster fungerar på svenska data."
      ]
    },
    {
      "cell_type": "markdown",
      "metadata": {
        "id": "eHYZLj34XNfw"
      },
      "source": [
        "<div class=\"panel panel-primary\">\n",
        "\n",
        "<div class=\"panel-body\">\n",
        "    <p>Läs Hearsts artikel och implementera åtminstone tre andra mönster förutom det som ni använt i Uppgift&nbsp;1. Flera av mönstren är formulerade för tre eller fler substantiv; ni kan dock begränsa er till två substantiv (som i Uppgift&nbsp;1). Skriv en kort text (ca. 150&nbsp;ord) om er studie. Utgå ifrån dessa frågor:</p>\n",
        "    <ul>\n",
        "        <li>Hur många nya kandidatpar fick ni och med vilka mönster? Hur många äkta hyponymer/hyperonymer innehöll de nya kandidatparen?</li>\n",
        "        <li>Hur bra fungerade de nya mönstren jämfört med mönstret från Uppgift&nbsp;1? Utifrån era experiment, hur bra fungerar Hearsts metod överlag?</li>\n",
        "        <li>Vad lärde ni er från denna studie? Exakt hur lärde ni er detta? Varför är denna kunskap relevant?</li>\n",
        "    </ul>\n",
        "</div>\n",
        "</div>"
      ]
    },
    {
      "cell_type": "markdown",
      "metadata": {
        "id": "N8Fem3fQXNfx"
      },
      "source": [
        "#### Glöm inte att läsa de allmänna reglerna för inlämningsuppgifterna på kurshemsidan innan ni skickar in denna notebook!\n"
      ]
    },
    {
      "cell_type": "markdown",
      "metadata": {
        "id": "3Be__ggEXNfx"
      },
      "source": [
        "Denna laboration har ingen VG-del.\n",
        "\n",
        "**Bra jobbat med laborationerna i denna kurs!** 🥳🥳🥳"
      ]
    },
    {
      "cell_type": "code",
      "source": [],
      "metadata": {
        "id": "ll57K_ZWqWk9"
      },
      "execution_count": null,
      "outputs": []
    }
  ]
}