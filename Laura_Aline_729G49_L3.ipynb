{
  "nbformat": 4,
  "nbformat_minor": 0,
  "metadata": {
    "kernelspec": {
      "display_name": "Python 3",
      "language": "python",
      "name": "python3"
    },
    "language_info": {
      "codemirror_mode": {
        "name": "ipython",
        "version": 3
      },
      "file_extension": ".py",
      "mimetype": "text/x-python",
      "name": "python",
      "nbconvert_exporter": "python",
      "pygments_lexer": "ipython3",
      "version": "3.7.6"
    },
    "latex_envs": {
      "bibliofile": "biblio.bib",
      "cite_by": "apalike",
      "current_citInitial": 1,
      "eqLabelWithNumbers": true,
      "eqNumInitial": 0
    },
    "colab": {
      "provenance": []
    }
  },
  "cells": [
    {
      "cell_type": "markdown",
      "metadata": {
        "id": "b_1ADkasVio0"
      },
      "source": [
        "# L3: Lingvistiskt uppmärkt text 2"
      ]
    },
    {
      "cell_type": "markdown",
      "metadata": {
        "id": "U__LaqlTVio6"
      },
      "source": [
        "I laboration L2 jobbade ni med lingvistiskt uppmärkt text från [Swedish Treebank](https://web.archive.org/web/20230203140242/https://cl.lingfil.uu.se/~nivre/swedish_treebank/). Förutom ordformer och ordklasstaggar innehåller denna datamängd även syntaktiska annotationer i form av dependenser, dvs. grammatiska relationer mellan enstaka ord. Dessa är vad fokus ligger på i denna laboration."
      ]
    },
    {
      "cell_type": "code",
      "metadata": {
        "id": "eTR0b1MoVio7",
        "outputId": "7fa781d0-ba92-4511-ec3b-4a43afa2e68d",
        "colab": {
          "base_uri": "https://localhost:8080/"
        }
      },
      "source": [
        "!wget -q -r -nH -np --cut-dirs=7 -R \"index.html*\" https://www.ida.liu.se/~729G49/LabData/lab3/; rm -rf sample_data; rm robots.txt; echo \"Files downloaded:\" ; ls\n",
        "\n",
        "import lab3"
      ],
      "execution_count": null,
      "outputs": [
        {
          "output_type": "stream",
          "name": "stdout",
          "text": [
            "Files downloaded:\n",
            "lab3_310.pyc  lab3_39.pyc   lab3.pyc\t\t      talbanken-dep-train.conll\n",
            "lab3_38.pyc   lab3_old.pyc  talbanken-dep-test.conll\n"
          ]
        }
      ]
    },
    {
      "cell_type": "markdown",
      "metadata": {
        "id": "m3qRApaZVio7"
      },
      "source": [
        "## Om dependensträd"
      ]
    },
    {
      "cell_type": "markdown",
      "metadata": {
        "id": "vNofiUhnVio7"
      },
      "source": [
        "Varje mening i Swedish Treebank är annoterad med ett så kallat **dependensträd**, en speciell form av funktionell syntaktisk analys där man beskriver grammatiska relationer mellan enskilda ord. Ett exempel på hur det kan se ut visas här nedan.\n",
        "\n",
        "![Ett dependensträd](https://www.ida.liu.se/~729G49/dep_tree.png)\n",
        "\n",
        "Varje båge i ett dependensträd länkar två ord: Det ord som bågen pekar mot kallas **dependent**; ordet på andra sidan bågen kallas **huvud**. I exemplet är *pensionen* dependent till *är* och samtidigt huvud till *den* och *allmänna*. Varje ord har exakt ett huvud; det enda undantaget är ett speciellt rot-ord, som inte har något huvud (men kan ha dependenter). I exempelträdet är ordet *är* trädets rot, vilket här markeras med en speciell pil.\n",
        "\n",
        "Bågarna i ett dependensträd är ofta etiketterade med **grammatiska relationer**. I exempelträdet är bågen från *är* till *pensionen* etiketterad med den grammatiska relationen `SS` som uttrycker att *pensionen* fungerar som grammatiskt subjekt till sitt huvudord *är*. Mer information om vilka grammatiska relationer man använder i just Swedish Treebank hittar ni i dokumentet [Functional syntactic categories in the Swedish Treebank](https://web.archive.org/web/20220926072515/https://cl.lingfil.uu.se/~nivre/swedish_treebank/GF.html)."
      ]
    },
    {
      "cell_type": "markdown",
      "metadata": {
        "id": "yKR79vkpVio7"
      },
      "source": [
        "## Uppgift 1: Rita dependensträd"
      ]
    },
    {
      "cell_type": "markdown",
      "metadata": {
        "id": "CE6Sr1OuVio8"
      },
      "source": [
        "Er första uppgift är att sätta er in i hur dependensträd representeras i korpusfilen. För att testa er förståelse av detta ska ni rita (med penna och papper) dependensträdet för den andra meningen i korpusfilen.\n",
        "\n",
        "> Rita dependenserna för den andra meningen i korpusfilen. Följ det format som ni ser i bilden ovan.\n",
        "\n",
        "Börja med att läsa om dokumentationen av [CoNLL-X-formatet](http://anthology.aclweb.org/W/W06/W06-2920.pdf), som ni redan använde för föregående laboration. Skriv sedan kod för att ta fram den andra meningen i korpusfilen. Redovisa uppgiften genom att rita dependensträdet på ett papper och bifoga ett foto på detta papper till er inlämning."
      ]
    },
    {
      "cell_type": "code",
      "metadata": {
        "id": "GbRMeKnaVio8",
        "outputId": "ca847429-d3c7-4d6a-c440-cab9b07a8248",
        "colab": {
          "base_uri": "https://localhost:8080/"
        }
      },
      "source": [
        "outer_list = []\n",
        "with open('talbanken-dep-train.conll') as source:\n",
        "    for line in source:\n",
        "        if line != '\\n':\n",
        "            clean_line = line.rstrip('\\n')\n",
        "            inner_list = clean_line.split('\\t')\n",
        "            outer_list.append(inner_list)\n",
        "        else:\n",
        "          continue\n",
        "\n",
        "print(outer_list[4:15])"
      ],
      "execution_count": null,
      "outputs": [
        {
          "output_type": "stream",
          "name": "stdout",
          "text": [
            "[['1', 'Genom', '_', 'PP', 'PP', '_', '3', 'AA', '_', '_'], ['2', 'skattereformen', '_', 'NN', 'NN', 'UTR|SIN|DEF|NOM', '1', 'PA', '_', '_'], ['3', 'införs', '_', 'VB', 'VB', 'PRS|SFO', '0', 'ROOT', '_', '_'], ['4', 'individuell', '_', 'JJ', 'JJ', 'POS|UTR|SIN|IND|NOM', '5', 'AT', '_', '_'], ['5', 'beskattning', '_', 'NN', 'NN', 'UTR|SIN|IND|NOM', '3', 'SS', '_', '_'], ['6', '(', '_', 'PAD', 'PAD', '_', '5', 'IR', '_', '_'], ['7', 'särbeskattning', '_', 'NN', 'NN', 'UTR|SIN|IND|NOM', '5', 'AN', '_', '_'], ['8', ')', '_', 'PAD', 'PAD', '_', '5', 'JR', '_', '_'], ['9', 'av', '_', 'PP', 'PP', '_', '5', 'ET', '_', '_'], ['10', 'arbetsinkomster', '_', 'NN', 'NN', 'UTR|PLU|IND|NOM', '9', 'PA', '_', '_'], ['11', '.', '_', 'MAD', 'MAD', '_', '3', 'IP', '_', '_']]\n"
          ]
        }
      ]
    },
    {
      "cell_type": "markdown",
      "metadata": {
        "id": "fSxP8O5tVio8"
      },
      "source": [
        "## Uppgift 2: Skriv ut dependensträd i pilformatet"
      ]
    },
    {
      "cell_type": "markdown",
      "metadata": {
        "id": "WSfoxbPRVio8"
      },
      "source": [
        "Som ni kanske märkt i föregående uppgift kan dependenserna vara lite svåra att läsa av genom att direkt titta på korpusfilen. Det blir lite enklare när man skriver ut dem som &rdquo;pilar&rdquo; mellan ord i ett format som i detta exempel:"
      ]
    },
    {
      "cell_type": "code",
      "metadata": {
        "id": "pRhgQT4qVio9",
        "colab": {
          "base_uri": "https://localhost:8080/"
        },
        "outputId": "13be9cc4-1902-43bd-c621-d9acbfd9d5d0"
      },
      "source": [
        "lab3.problem2()"
      ],
      "execution_count": null,
      "outputs": [
        {
          "output_type": "stream",
          "name": "stdout",
          "text": [
            "kommer -> Vinsten\n",
            "kommer -> dig\n",
            "dig -> själv\n",
            "kommer -> till\n",
            "till -> godo\n",
            "kommer -> i\n",
            "i -> form\n",
            "form -> av\n",
            "och -> trivsel-\n",
            "av -> och\n",
            "och -> förströelseanordningar\n",
            "kommer -> .\n"
          ]
        }
      ]
    },
    {
      "cell_type": "markdown",
      "metadata": {
        "id": "S352JgWnVio9"
      },
      "source": [
        "Här kommer uppgiften:\n",
        "\n",
        "> Skriv kod som skriver ut alla dependenser i mening nummer&nbsp;123 i &rdquo;pilformatet&rdquo;. Ignorera dependenser vars huvudord är rot-ordet (ordet med position&nbsp;0). Använd funktionen `sentences()` från laboration&nbsp;L2.\n",
        "\n",
        "Skriv er kod i cellen nedan och utför den genom att köra cellen. Jämför ert resultat med det resultat som ni får när ni anropar funktionen `lab3.problem2()`. Tänk på att numreringar i Python börjar med&nbsp;0."
      ]
    },
    {
      "cell_type": "code",
      "metadata": {
        "id": "0U_EfHLfVio9",
        "colab": {
          "base_uri": "https://localhost:8080/"
        },
        "outputId": "61e7e18d-5763-422d-aa2f-f9a2d44cdbfc"
      },
      "source": [
        "def sentences(source):\n",
        "    full_sentence = []\n",
        "    for line in source:\n",
        "        if line != '\\n':\n",
        "            clean_line = line.rstrip('\\n')\n",
        "            inner_list = clean_line.split('\\t')\n",
        "            full_sentence.append(inner_list)\n",
        "        else:\n",
        "            yield full_sentence\n",
        "            full_sentence = []\n",
        "\n",
        "with open('talbanken-dep-train.conll') as f:\n",
        "  sentence = []\n",
        "  counter = 0\n",
        "  for s in sentences(f):\n",
        "      counter += 1\n",
        "      sentence = s\n",
        "      if counter == 124:\n",
        "        print(sentence)\n",
        "        break\n",
        "  for token in sentence:\n",
        "    head_i = int(token[6])\n",
        "    head_word = sentence[head_i][1]\n",
        "    print(f\"{head_word} -> {token[1]}\")\n",
        "  print('\\n')\n",
        "\n",
        "\n",
        "#lab3.problem2()    # Kommentera in denna rad för att få facit"
      ],
      "execution_count": null,
      "outputs": [
        {
          "output_type": "stream",
          "name": "stdout",
          "text": [
            "[['1', 'Vinsten', '_', 'NN', 'NN', 'UTR|SIN|DEF|NOM', '2', 'SS', '_', '_'], ['2', 'kommer', '_', 'VB', 'VB', 'PRS|AKT', '0', 'ROOT', '_', '_'], ['3', 'dig', '_', 'PN', 'PN', 'UTR|SIN|DEF|OBJ', '2', 'OO', '_', '_'], ['4', 'själv', '_', 'JJ', 'JJ', 'POS|UTR|SIN|IND|NOM', '3', 'PT', '_', '_'], ['5', 'till', '_', 'PP', 'PP', '_', '2', 'PL', '_', '_'], ['6', 'godo', '_', 'NN', 'NN', '-|-|-|-', '5', 'HD', '_', '_'], ['7', 'i', '_', 'PP', 'PP', '_', '2', 'AA', '_', '_'], ['8', 'form', '_', 'NN', 'NN', 'UTR|SIN|IND|NOM', '7', 'PA', '_', '_'], ['9', 'av', '_', 'PP', 'PP', '_', '8', 'ET', '_', '_'], ['10', 'trivsel-', '_', 'NN', 'NN', 'UTR|-|-|SMS', '11', 'CJ', '_', '_'], ['11', 'och', '_', 'KN', 'KN', '_', '9', 'PA', '_', '_'], ['12', 'förströelseanordningar', '_', 'NN', 'NN', 'UTR|PLU|IND|NOM', '11', 'CJ', '_', '_'], ['13', '.', '_', 'MAD', 'MAD', '_', '2', 'IP', '_', '_']]\n",
            "dig -> Vinsten\n",
            "Vinsten -> kommer\n",
            "dig -> dig\n",
            "själv -> själv\n",
            "dig -> till\n",
            "godo -> godo\n",
            "dig -> i\n",
            "form -> form\n",
            "av -> av\n",
            "förströelseanordningar -> trivsel-\n",
            "trivsel- -> och\n",
            "förströelseanordningar -> förströelseanordningar\n",
            "dig -> .\n",
            "\n",
            "\n"
          ]
        }
      ]
    },
    {
      "cell_type": "markdown",
      "metadata": {
        "id": "dGirZdYjVio9"
      },
      "source": [
        "## Uppgift 3: Skapa ett histogram över fördelningen av grammatiska relationer"
      ]
    },
    {
      "cell_type": "markdown",
      "metadata": {
        "id": "HTkEJ3-ZVio9"
      },
      "source": [
        "I laboration L2 skapade ni ett histogram över fördelningen av ordklasser. Här ska ni göra samma sak för grammatiska relationer.\n",
        "\n",
        "> Skriv kod för att skapa ett histogram över fördelningen över alla grammatiska relationer i korpusfilen. Använd samma recept som i laboration&nbsp;L2. Ange de tre relationer som har det största respektive minsta antalet förekomster.\n",
        "\n",
        "Skriv er kod i cellen nedan. Koden ska ta fram fördelningen och plotta den. För själva plotten kan ni anropa funktionen `lab3.plot_histogram()`, som tar en lista med par bestående av en kategori (en grammatisk relation) och ett värde (antalet förekomster). Ange de tre relationer som har det största respektive minsta antalet förekomster i textfältet nedan. Det finns inget facit för den här uppgiften."
      ]
    },
    {
      "cell_type": "code",
      "metadata": {
        "id": "LsNPai-WVio-"
      },
      "source": [
        "%matplotlib inline\n",
        "\n",
        "# TODO: Skriv kod för att lösa Uppgift 3"
      ],
      "execution_count": null,
      "outputs": []
    },
    {
      "cell_type": "markdown",
      "metadata": {
        "id": "2_c53rkfVio-"
      },
      "source": [
        "**Relationer med det största antalet förekomster**\n",
        "\n",
        "1. relation x (n förekomster)\n",
        "2. relation y (n förekomster)\n",
        "3. relation z (n förekomster)\n",
        "\n",
        "**Relationer med det minsta antalet förekomster**\n",
        "\n",
        "1. relation x (n förekomster)\n",
        "2. relation y (n förekomster)\n",
        "3. relation z (n förekomster)"
      ]
    },
    {
      "cell_type": "markdown",
      "metadata": {
        "id": "chmp-dmxVio-"
      },
      "source": [
        "## Uppgift 4: Hitta dependenser till icke-ord"
      ]
    },
    {
      "cell_type": "markdown",
      "metadata": {
        "id": "WYP8iz1UVio-"
      },
      "source": [
        "I Uppgift&nbsp;2 har ni sett att korpusfilen inte bara innehåller dependenser för ord utan även för token som inte vanligtvis klassas som ord, såsom interpunktionstecken. För många lingvistiska analyser är dessa dependenser ganska ointressanta. I nästa uppgift ska ni filtrera ut dem.\n",
        "\n",
        "> Skriv kod som skriver ut antalet dependenser till interpunktionstoken. För denna uppgift räknas ett token som interpunktion om det är taggat med en ordklasstagg som enligt [dokumentationen](https://web.archive.org/web/20220926051450/https://cl.lingfil.uu.se/~nivre/swedish_treebank/pos.html) är klassad som *Delimiter*.\n",
        "\n",
        "Skriv er kod i cellen nedan och utför den genom att köra cellen. Jämför ert resultat med det resultat som ni får när ni anropar funktionen `lab3.problem4()`."
      ]
    },
    {
      "cell_type": "code",
      "metadata": {
        "id": "NLihz2dEVio-"
      },
      "source": [
        "# TODO: Skriv kod för att lösa Uppgift 4\n",
        "# lab3.problem4()    # Kommentera in denna rad för att få facit"
      ],
      "execution_count": null,
      "outputs": []
    },
    {
      "cell_type": "markdown",
      "metadata": {
        "id": "mBQ3IhhgVio_"
      },
      "source": [
        "## Uppgift 5: Hitta subjekt"
      ]
    },
    {
      "cell_type": "markdown",
      "metadata": {
        "id": "lBKGrWNwVio_"
      },
      "source": [
        "Eftersom korpusen är annoterad med grammatiska funktioner såsom subjekt och objekt kan man ta ut satsdelar för meningarna i korpusfilen. I nästa uppgift ska ni skriva kod som närmar sig en sådan analys genom att ta reda på alla ord som förekommer som subjekt till ett givet ord.\n",
        "\n",
        "> Skriv kod som skriver ut alla unika ordformer som förekommer som subjekt till ordet *betalar*. Inkludera bara substantiv (ordklass `NN`) och bara sådana ord som endast består av alfabetiska tecken. Skriv ut ordformerna i alfabetisk ordning.\n",
        "\n",
        "För att lösa denna uppgift behöver ni förstå hur ni kan identifiera ett subjekt. Läs dokumentet [Functional Syntactic Categories in the Swedish Treebank](https://web.archive.org/web/20220926072515/https://cl.lingfil.uu.se/~nivre/swedish_treebank/GF.html) och ta med alla ord vars dependensrelation till huvudordet innehåller ordet &rdquo;subject&rdquo; i kolumnen *Meaning*.\n",
        "\n",
        "Användbara länkar:\n",
        "\n",
        "* [String methods](https://docs.python.org/3/library/stdtypes.html#string-methods) (för att identifiera ord som endast består av alfabetiska tecken)\n",
        "* [Sorting HOW TO](https://docs.python.org/3/howto/sorting.html) (för att sortera ordformera i alfabetisk ordning)\n",
        "\n",
        "Skriv er kod i cellen nedan och utför den genom att köra cellen. Jämför ert resultat med det resultat som ni får när ni anropar funktionen `lab3.problem5()`."
      ]
    },
    {
      "cell_type": "code",
      "metadata": {
        "id": "s3hiD4fDVio_"
      },
      "source": [
        "# TODO: Skriv kod för att lösa Uppgift 5\n",
        "# lab3.problem5()    # Kommentera in denna rad för att få facit"
      ],
      "execution_count": null,
      "outputs": []
    },
    {
      "cell_type": "markdown",
      "metadata": {
        "id": "PomrdnPoVio_"
      },
      "source": [
        "## Uppgift 6: Hitta verb med olika typer av transitivitet"
      ]
    },
    {
      "cell_type": "markdown",
      "metadata": {
        "id": "jd-1NndmVio_"
      },
      "source": [
        "I lingvistikdelen lär ni er att ett verbs transitivitet avgör hur många och vilken typ av konstituenter den kombineras med för att vara grammatisk. I den här uppgiften är vi intresserade av tre olika typer av transitivitet:\n",
        "\n",
        "* intransitiva verb, som endast har (exakt) ett subjekt\n",
        "* enkelt transitiva verb, som dessutom har (exakt) ett direkt objekt\n",
        "* ditransitiva verb, som dessutom har (exakt) ett indirekt objekt\n",
        "\n",
        "> Skriv kod som skriver ut antalet förekomster av intransitiva, enkelt transitiva och ditransitiva verb i korpusfilen. Utgår ifrån följande ordklasstaggar och grammatiska funktioner: `VB` för verb, `SS` för subjekt, `OO` för direkt objekt, `IO` för indirekt objekt.\n",
        "\n",
        "Skriv er kod i cellen nedan och utför den genom att köra cellen. Jämför ert resultat med det resultat som ni får när ni anropar funktionen `lab3.problem6()`."
      ]
    },
    {
      "cell_type": "code",
      "metadata": {
        "id": "weTqlGMLVipA"
      },
      "source": [
        "# TODO: Skriv kod för att lösa Uppgift 6\n",
        "# lab3.problem6()    # Kommentera in denna rad för att få facit"
      ],
      "execution_count": null,
      "outputs": []
    },
    {
      "cell_type": "markdown",
      "metadata": {
        "id": "bZ8rHcHjVipA"
      },
      "source": [
        "## Uppgift 7: Ordföljd (reflektion)"
      ]
    },
    {
      "cell_type": "markdown",
      "metadata": {
        "id": "zl7gNQGhVipA"
      },
      "source": [
        "Den &rdquo;raka&rdquo; ordföljden i svenskan följer mönstret subjekt&ndash;verb&ndash;objekt. Denna ordföljd är den mest vanliga, men det finns också alternativa ordföljder. I reflektionsuppgiften ska ni försöka hitta empiriska belägg för dessa.\n",
        "\n",
        "Till er hjälp får ni en funktion `lab3.problem7()` som skriver ut meningar i korpusfilen vars uppbyggnad följer ett visst mönster. Detta mönster anges som ett reguljärt uttryck som kan referera till grammatiska relationer. Mönstret i nedanstående kodcell t.ex. matchar meningar som består av exakt ett subjekt (`SS`), ett verb (`VB`) och ett direkt objekt (`OO`), i exakt den ordningen och utan andra satsdelar eller interpunktion:"
      ]
    },
    {
      "cell_type": "code",
      "metadata": {
        "id": "B7BlHo0JVipB"
      },
      "source": [
        "lab3.problem7('^SS VB OO IP$')"
      ],
      "execution_count": null,
      "outputs": []
    },
    {
      "cell_type": "markdown",
      "metadata": {
        "id": "WvFgNNkrVipB"
      },
      "source": [
        "Här kommer er uppgift:\n",
        "\n",
        "> Hitta empiriska belägg för olika typer av ordföljder i korpusfilen. Använd er kunskap om olika satstyper (påståenden, frågesatser, imperativsatser). Skriv en kort text (ca. 150&nbsp;ord) om er korpusstudie. Utgå ifrån dessa frågor:\n",
        "> * Exakt vilka mönster använde ni för att hitta belägg för de olika satstyperna? Vilka resultat fick ni?\n",
        "> * Passade era resultat ihop med er lingvistiska kunskap eller fanns det överraskningar?\n",
        "> * Vad lärde ni er från denna studie? Exakt hur lärde ni er detta? Varför är denna kunskap relevant?"
      ]
    },
    {
      "cell_type": "markdown",
      "metadata": {
        "id": "9LRiZ-yIVipB"
      },
      "source": [
        "<div class=\"alert alert-info\">\n",
        "    Glöm inte att läsa de allmänna reglerna för inlämningsuppgifterna på kurshemsidan innan ni skickar in denna notebook!\n",
        "</div>\n"
      ]
    },
    {
      "cell_type": "markdown",
      "metadata": {
        "id": "cEPvHKCbVipB"
      },
      "source": [
        "## VG-del: Projektivitet"
      ]
    },
    {
      "cell_type": "markdown",
      "metadata": {
        "id": "K6mVeBJlVipB"
      },
      "source": [
        "De flesta algoritmer för automatisk syntaktisk analys som används idag utgår ifrån att dependensträd inte innehåller &rdquo;korsande&rdquo; dependenser. Med detta menas dependenser som korsar varandra när de ritas ovanför orden i meningen på det sätt som ni ser i exempelträdet ovan. För denna definition är det viktigt att även den &rdquo;virtuella&rdquo; dependensen till meningens rot-ord tas i beakt. Ett dependensträd som inte innehåller korsande bågar sägs vara **projektivt**. Projektiva dependensträd kan processas mera effektivt än icke-projektiva. För mer information om projektivitet kan ni titta i [denna forskningsartikel](https://www.ida.liu.se/~marku61/publications/kuhlmann2006mildly.shtml).\n",
        "\n",
        "> Skriv kod som testar om ett givet dependensträd är projektivt. Använd koden för att skriva ut andelen av projektiva dependensträd i korpusfilen."
      ]
    },
    {
      "cell_type": "code",
      "metadata": {
        "id": "H7N_qmrWVipC"
      },
      "source": [
        "# TODO: Skriv kod för att lösa Uppgift 9\n",
        "# lab3.problem8()    # Kommentera in denna rad för att få facit"
      ],
      "execution_count": null,
      "outputs": []
    },
    {
      "cell_type": "markdown",
      "metadata": {
        "id": "IVpQEmEgVipC"
      },
      "source": [
        "<div class=\"alert alert-info\">\n",
        "    Glöm inte att läsa de allmänna reglerna för inlämningsuppgifterna på kurshemsidan innan ni skickar in denna notebook!\n",
        "</div>"
      ]
    }
  ]
}